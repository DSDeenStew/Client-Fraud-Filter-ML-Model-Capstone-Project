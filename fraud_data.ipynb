{
 "cells": [
  {
   "cell_type": "markdown",
   "id": "7625cebe-eb0e-41e6-b043-1cb8db862707",
   "metadata": {},
   "source": [
    "## Data Exploration"
   ]
  },
  {
   "cell_type": "code",
   "execution_count": 1,
   "id": "b7eea015-297a-4280-ae80-c4a92db519d9",
   "metadata": {},
   "outputs": [],
   "source": [
    "import pandas as pd\n",
    "import seaborn as sns\n",
    "import matplotlib.pyplot as plt"
   ]
  },
  {
   "cell_type": "code",
   "execution_count": 2,
   "id": "e6ac76b7-a690-48ee-8761-0a99178f836f",
   "metadata": {},
   "outputs": [],
   "source": [
    "df = pd.read_csv('fraud_dataset.csv')"
   ]
  },
  {
   "cell_type": "code",
   "execution_count": null,
   "id": "e4b8a879-a68e-486b-ad2e-6293185bd268",
   "metadata": {},
   "outputs": [],
   "source": [
    "df.head()"
   ]
  },
  {
   "cell_type": "code",
   "execution_count": 4,
   "id": "709c5859-8dee-4870-859b-e12701ea50ac",
   "metadata": {},
   "outputs": [
    {
     "name": "stdout",
     "output_type": "stream",
     "text": [
      "<class 'pandas.core.frame.DataFrame'>\n",
      "RangeIndex: 300171 entries, 0 to 300170\n",
      "Data columns (total 21 columns):\n",
      " #   Column                                                       Non-Null Count   Dtype \n",
      "---  ------                                                       --------------   ----- \n",
      " 0   Numero d'identification / Number ID                          300171 non-null  int64 \n",
      " 1   Date Received / Date recue                                   300171 non-null  object\n",
      " 2   Complaint Received Type                                      300171 non-null  object\n",
      " 3   Type de plainte recue                                        300171 non-null  object\n",
      " 4   Country                                                      300171 non-null  object\n",
      " 5   Pays                                                         300171 non-null  object\n",
      " 6   Province/State                                               300171 non-null  object\n",
      " 7   Province/Etat                                                300171 non-null  object\n",
      " 8   Fraud and Cybercrime Thematic Categories                     300171 non-null  object\n",
      " 9   Categories thematiques sur la fraude et la cybercriminalite  300171 non-null  object\n",
      " 10  Solicitation Method                                          300171 non-null  object\n",
      " 11  Methode de sollicitation                                     300171 non-null  object\n",
      " 12  Gender                                                       300171 non-null  object\n",
      " 13  Genre                                                        300171 non-null  object\n",
      " 14  Language of Correspondence                                   300171 non-null  object\n",
      " 15  Langue de correspondance                                     300171 non-null  object\n",
      " 16  Victim Age Range / Tranche d'age des victimes                300171 non-null  object\n",
      " 17  Complaint Type                                               300171 non-null  object\n",
      " 18  Type de plainte                                              300171 non-null  object\n",
      " 19  Number of Victims / Nombre de victimes                       300171 non-null  int64 \n",
      " 20  Dollar Loss /pertes financieres                              300171 non-null  object\n",
      "dtypes: int64(2), object(19)\n",
      "memory usage: 48.1+ MB\n"
     ]
    }
   ],
   "source": [
    "df.info()"
   ]
  },
  {
   "cell_type": "code",
   "execution_count": 5,
   "id": "319dbb24-a775-4777-a0f8-97ceed6e5a6e",
   "metadata": {},
   "outputs": [
    {
     "data": {
      "text/plain": [
       "Country\n",
       "Canada                             227702\n",
       "Not Specified                       68426\n",
       "United States                        1833\n",
       "India                                 226\n",
       "United Kingdom                        145\n",
       "                                    ...  \n",
       "Antigua and Barbuda                     1\n",
       "Palestinian Territory, Occupied         1\n",
       "Libya                                   1\n",
       "Tajikistan                              1\n",
       "Lithuania                               1\n",
       "Name: count, Length: 155, dtype: int64"
      ]
     },
     "execution_count": 5,
     "metadata": {},
     "output_type": "execute_result"
    }
   ],
   "source": [
    "df[\"Country\"].value_counts()"
   ]
  },
  {
   "cell_type": "markdown",
   "id": "8c753fba-4aff-4720-8580-babf6beddda2",
   "metadata": {},
   "source": [
    "## Data Cleaning"
   ]
  },
  {
   "cell_type": "code",
   "execution_count": 7,
   "id": "e9b70ed8-3fed-4196-8a62-aaab2ab3aefb",
   "metadata": {},
   "outputs": [
    {
     "name": "stdout",
     "output_type": "stream",
     "text": [
      "<class 'pandas.core.frame.DataFrame'>\n",
      "RangeIndex: 300171 entries, 0 to 300170\n",
      "Data columns (total 21 columns):\n",
      " #   Column                                                       Non-Null Count   Dtype \n",
      "---  ------                                                       --------------   ----- \n",
      " 0   Numero d'identification / Number ID                          300171 non-null  int64 \n",
      " 1   Date Received / Date recue                                   300171 non-null  object\n",
      " 2   Complaint Received Type                                      300171 non-null  object\n",
      " 3   Type de plainte recue                                        300171 non-null  object\n",
      " 4   Country                                                      300171 non-null  object\n",
      " 5   Pays                                                         300171 non-null  object\n",
      " 6   Province/State                                               300171 non-null  object\n",
      " 7   Province/Etat                                                300171 non-null  object\n",
      " 8   Fraud and Cybercrime Thematic Categories                     300171 non-null  object\n",
      " 9   Categories thematiques sur la fraude et la cybercriminalite  300171 non-null  object\n",
      " 10  Solicitation Method                                          300171 non-null  object\n",
      " 11  Methode de sollicitation                                     300171 non-null  object\n",
      " 12  Gender                                                       300171 non-null  object\n",
      " 13  Genre                                                        300171 non-null  object\n",
      " 14  Language of Correspondence                                   300171 non-null  object\n",
      " 15  Langue de correspondance                                     300171 non-null  object\n",
      " 16  Victim Age Range / Tranche d'age des victimes                300171 non-null  object\n",
      " 17  Complaint Type                                               300171 non-null  object\n",
      " 18  Type de plainte                                              300171 non-null  object\n",
      " 19  Number of Victims / Nombre de victimes                       300171 non-null  int64 \n",
      " 20  Dollar Loss /pertes financieres                              300171 non-null  object\n",
      "dtypes: int64(2), object(19)\n",
      "memory usage: 48.1+ MB\n"
     ]
    }
   ],
   "source": [
    "df.info()"
   ]
  },
  {
   "cell_type": "code",
   "execution_count": 8,
   "id": "8a1260d4-d8c8-40b0-9931-6a5628d90203",
   "metadata": {},
   "outputs": [],
   "source": [
    "# Keep necessary columns only \n",
    "\n",
    "df = df[[\"Complaint Received Type\", \"Country\", \"Province/State\", \"Fraud and Cybercrime Thematic Categories\", \"Solicitation Method\", \"Gender\", \"Victim Age Range / Tranche d'age des victimes\", \"Complaint Type\", \"Dollar Loss /pertes financieres\", \"Number of Victims / Nombre de victimes\" ]]"
   ]
  },
  {
   "cell_type": "code",
   "execution_count": 9,
   "id": "849f74eb-ad64-4e97-a632-bd82433d74bb",
   "metadata": {},
   "outputs": [
    {
     "data": {
      "text/html": [
       "<div>\n",
       "<style scoped>\n",
       "    .dataframe tbody tr th:only-of-type {\n",
       "        vertical-align: middle;\n",
       "    }\n",
       "\n",
       "    .dataframe tbody tr th {\n",
       "        vertical-align: top;\n",
       "    }\n",
       "\n",
       "    .dataframe thead th {\n",
       "        text-align: right;\n",
       "    }\n",
       "</style>\n",
       "<table border=\"1\" class=\"dataframe\">\n",
       "  <thead>\n",
       "    <tr style=\"text-align: right;\">\n",
       "      <th></th>\n",
       "      <th>Complaint Received Type</th>\n",
       "      <th>Country</th>\n",
       "      <th>Province/State</th>\n",
       "      <th>Fraud and Cybercrime Thematic Categories</th>\n",
       "      <th>Solicitation Method</th>\n",
       "      <th>Gender</th>\n",
       "      <th>Victim Age Range / Tranche d'age des victimes</th>\n",
       "      <th>Complaint Type</th>\n",
       "      <th>Dollar Loss /pertes financieres</th>\n",
       "      <th>Number of Victims / Nombre de victimes</th>\n",
       "    </tr>\n",
       "  </thead>\n",
       "  <tbody>\n",
       "    <tr>\n",
       "      <th>0</th>\n",
       "      <td>CAFC Website</td>\n",
       "      <td>Canada</td>\n",
       "      <td>Saskatchewan</td>\n",
       "      <td>Merchandise</td>\n",
       "      <td>Other/unknown</td>\n",
       "      <td>Not Available</td>\n",
       "      <td>'Not Available / non disponible</td>\n",
       "      <td>Attempt</td>\n",
       "      <td>$0.00</td>\n",
       "      <td>0</td>\n",
       "    </tr>\n",
       "  </tbody>\n",
       "</table>\n",
       "</div>"
      ],
      "text/plain": [
       "  Complaint Received Type Country Province/State  \\\n",
       "0            CAFC Website  Canada   Saskatchewan   \n",
       "\n",
       "  Fraud and Cybercrime Thematic Categories Solicitation Method         Gender  \\\n",
       "0                              Merchandise       Other/unknown  Not Available   \n",
       "\n",
       "  Victim Age Range / Tranche d'age des victimes Complaint Type  \\\n",
       "0               'Not Available / non disponible        Attempt   \n",
       "\n",
       "  Dollar Loss /pertes financieres  Number of Victims / Nombre de victimes  \n",
       "0                           $0.00                                       0  "
      ]
     },
     "execution_count": 9,
     "metadata": {},
     "output_type": "execute_result"
    }
   ],
   "source": [
    "df.head(1)"
   ]
  },
  {
   "cell_type": "code",
   "execution_count": 10,
   "id": "1246af29-5f30-4ee0-a660-af6a04c42693",
   "metadata": {},
   "outputs": [],
   "source": [
    "# Drop Complaint Received Type column since doesnt affect outcome\n",
    "\n",
    "df = df.drop(\"Complaint Received Type\", axis=1)"
   ]
  },
  {
   "cell_type": "code",
   "execution_count": 11,
   "id": "e1c1a22f-7a97-4b64-9bf6-64373147ea6f",
   "metadata": {},
   "outputs": [],
   "source": [
    "# Function that will combine all countries with inputs fewer than cutoff point into \"Outside of Canada/US\"\n",
    "\n",
    "def shorten_categories(categories, cutoff):\n",
    "    categorical_map = {}\n",
    "    for i in range(len(categories)):\n",
    "        if categories.values[i] >= cutoff:\n",
    "            categorical_map[categories.index[i]] = categories.index[i]\n",
    "        else:\n",
    "            categorical_map[categories.index[i]] = 'Outside of Canada/US'\n",
    "    return categorical_map"
   ]
  },
  {
   "cell_type": "code",
   "execution_count": 12,
   "id": "574c0bdc-e52a-45cb-8e2a-ddc4573658f3",
   "metadata": {},
   "outputs": [
    {
     "data": {
      "text/plain": [
       "Country\n",
       "Canada                  227702\n",
       "Not Specified            68426\n",
       "Outside of Canada/US      2210\n",
       "United States             1833\n",
       "Name: count, dtype: int64"
      ]
     },
     "execution_count": 12,
     "metadata": {},
     "output_type": "execute_result"
    }
   ],
   "source": [
    "country_map = shorten_categories(df.Country.value_counts(), 1000)\n",
    "df['Country'] = df['Country'].map(country_map)\n",
    "df.Country.value_counts()"
   ]
  },
  {
   "cell_type": "code",
   "execution_count": 13,
   "id": "26d8e2ce-2213-42d3-aeac-c210d5640325",
   "metadata": {},
   "outputs": [
    {
     "data": {
      "text/plain": [
       "Province/State\n",
       "Ontario                      87348\n",
       "Not Specified                71494\n",
       "Quebec                       61631\n",
       "British Columbia             28602\n",
       "Alberta                      23803\n",
       "Manitoba                      8191\n",
       "Saskatchewan                  5395\n",
       "Nova Scotia                   4917\n",
       "New Brunswick                 4032\n",
       "Newfoundland And Labrador     1758\n",
       "Prince Edward Island           780\n",
       "California                     521\n",
       "Yukon                          271\n",
       "North West Territories         171\n",
       "New York                       123\n",
       "Florida                        115\n",
       "Texas                           92\n",
       "Nunavut                         86\n",
       "Washington                      76\n",
       "Michigan                        50\n",
       "Massachusetts                   46\n",
       "Pennsylvania                    44\n",
       "Virginia                        39\n",
       "Illinois                        39\n",
       "Arizona                         36\n",
       "Name: count, dtype: int64"
      ]
     },
     "execution_count": 13,
     "metadata": {},
     "output_type": "execute_result"
    }
   ],
   "source": [
    "df[\"Province/State\"].value_counts().head(25)"
   ]
  },
  {
   "cell_type": "code",
   "execution_count": 14,
   "id": "99d4e59a-2d44-449f-87e0-6d016f25b184",
   "metadata": {},
   "outputs": [],
   "source": [
    "# Function that will combine all \"Province/State\" with inputs fewer than cutoff point into \"Other\"\n",
    "\n",
    "def shorten_categories2(categories, cutoff):\n",
    "    categorical_map = {}\n",
    "    for i in range(len(categories)):\n",
    "        if categories.values[i] >= cutoff:\n",
    "            categorical_map[categories.index[i]] = categories.index[i]\n",
    "        else:\n",
    "            categorical_map[categories.index[i]] = 'Other'\n",
    "    return categorical_map"
   ]
  },
  {
   "cell_type": "code",
   "execution_count": 15,
   "id": "60e29f04-82f9-4154-8da3-4c5c58ee615d",
   "metadata": {},
   "outputs": [
    {
     "data": {
      "text/plain": [
       "Major Province/State\n",
       "Ontario                      87348\n",
       "Not Specified                71494\n",
       "Quebec                       61631\n",
       "British Columbia             28602\n",
       "Alberta                      23803\n",
       "Manitoba                      8191\n",
       "Saskatchewan                  5395\n",
       "Nova Scotia                   4917\n",
       "New Brunswick                 4032\n",
       "Newfoundland And Labrador     1758\n",
       "Prince Edward Island           780\n",
       "Other                          765\n",
       "California                     521\n",
       "Yukon                          271\n",
       "North West Territories         171\n",
       "New York                       123\n",
       "Florida                        115\n",
       "Texas                           92\n",
       "Nunavut                         86\n",
       "Washington                      76\n",
       "Name: count, dtype: int64"
      ]
     },
     "execution_count": 15,
     "metadata": {},
     "output_type": "execute_result"
    }
   ],
   "source": [
    "major_province_map = shorten_categories2(df['Province/State'].value_counts(), 60)\n",
    "df['Major Province/State'] = df['Province/State'].map(major_province_map)\n",
    "df['Major Province/State'].value_counts()"
   ]
  },
  {
   "cell_type": "code",
   "execution_count": 16,
   "id": "597f5f12-dd71-41d0-8c6c-07d4a9bfc418",
   "metadata": {},
   "outputs": [],
   "source": [
    "df = df.drop(\"Province/State\", axis=1)"
   ]
  },
  {
   "cell_type": "code",
   "execution_count": 17,
   "id": "d8c7a398-fba0-4178-84a6-201513b89176",
   "metadata": {},
   "outputs": [
    {
     "data": {
      "text/html": [
       "<div>\n",
       "<style scoped>\n",
       "    .dataframe tbody tr th:only-of-type {\n",
       "        vertical-align: middle;\n",
       "    }\n",
       "\n",
       "    .dataframe tbody tr th {\n",
       "        vertical-align: top;\n",
       "    }\n",
       "\n",
       "    .dataframe thead th {\n",
       "        text-align: right;\n",
       "    }\n",
       "</style>\n",
       "<table border=\"1\" class=\"dataframe\">\n",
       "  <thead>\n",
       "    <tr style=\"text-align: right;\">\n",
       "      <th></th>\n",
       "      <th>Country</th>\n",
       "      <th>Fraud and Cybercrime Thematic Categories</th>\n",
       "      <th>Solicitation Method</th>\n",
       "      <th>Gender</th>\n",
       "      <th>Victim Age Range / Tranche d'age des victimes</th>\n",
       "      <th>Complaint Type</th>\n",
       "      <th>Dollar Loss /pertes financieres</th>\n",
       "      <th>Number of Victims / Nombre de victimes</th>\n",
       "      <th>Major Province/State</th>\n",
       "    </tr>\n",
       "  </thead>\n",
       "  <tbody>\n",
       "    <tr>\n",
       "      <th>0</th>\n",
       "      <td>Canada</td>\n",
       "      <td>Merchandise</td>\n",
       "      <td>Other/unknown</td>\n",
       "      <td>Not Available</td>\n",
       "      <td>'Not Available / non disponible</td>\n",
       "      <td>Attempt</td>\n",
       "      <td>$0.00</td>\n",
       "      <td>0</td>\n",
       "      <td>Saskatchewan</td>\n",
       "    </tr>\n",
       "  </tbody>\n",
       "</table>\n",
       "</div>"
      ],
      "text/plain": [
       "  Country Fraud and Cybercrime Thematic Categories Solicitation Method  \\\n",
       "0  Canada                              Merchandise       Other/unknown   \n",
       "\n",
       "          Gender Victim Age Range / Tranche d'age des victimes Complaint Type  \\\n",
       "0  Not Available               'Not Available / non disponible        Attempt   \n",
       "\n",
       "  Dollar Loss /pertes financieres  Number of Victims / Nombre de victimes  \\\n",
       "0                           $0.00                                       0   \n",
       "\n",
       "  Major Province/State  \n",
       "0         Saskatchewan  "
      ]
     },
     "execution_count": 17,
     "metadata": {},
     "output_type": "execute_result"
    }
   ],
   "source": [
    "df.head(1)"
   ]
  },
  {
   "cell_type": "code",
   "execution_count": 18,
   "id": "0fccdec3-e878-4908-a7fd-a1d0bde517ff",
   "metadata": {},
   "outputs": [
    {
     "data": {
      "text/plain": [
       "Fraud and Cybercrime Thematic Categories\n",
       "Identity Fraud                                70024\n",
       "Extortion                                     28453\n",
       "Phishing                                      26533\n",
       "Personal Info                                 24866\n",
       "Service                                       22510\n",
       "Investments                                   15642\n",
       "Merchandise                                   15262\n",
       "Counterfeit Merchandise                       12949\n",
       "Bank Investigator                             12553\n",
       "Job                                           11401\n",
       "Vendor Fraud                                   9372\n",
       "Other                                          8824\n",
       "Unknown                                        8381\n",
       "Emergency (Jail, Accident, Hospital, Help)     7160\n",
       "Romance                                        5448\n",
       "Spear Phishing                                 5397\n",
       "Prize                                          4220\n",
       "False Billing                                  1808\n",
       "GRANT                                          1668\n",
       "Loan                                           1606\n",
       "Collection Agency                              1300\n",
       "Foreign Money Offer                            1228\n",
       "Recovery Pitch                                 1141\n",
       "Incomplete                                      626\n",
       "Charity / Donation                              400\n",
       "Pyramid                                         286\n",
       "Spoofing                                        206\n",
       "Timeshare                                       170\n",
       "Psychics                                        128\n",
       "Vacation                                        121\n",
       "Survey                                          111\n",
       "Unauthorized Charge                              99\n",
       "Telecom Fraud                                    81\n",
       "Health                                           78\n",
       "Credit Card                                      54\n",
       "Directory                                        49\n",
       "Office Supplies                                  10\n",
       "Fraudulent Cheque                                 4\n",
       "Modem-Hijacking                                   2\n",
       "Name: count, dtype: int64"
      ]
     },
     "execution_count": 18,
     "metadata": {},
     "output_type": "execute_result"
    }
   ],
   "source": [
    "df[\"Fraud and Cybercrime Thematic Categories\"].value_counts()"
   ]
  },
  {
   "cell_type": "code",
   "execution_count": 19,
   "id": "5633b22b-1514-4e7a-982c-ad6f14130367",
   "metadata": {},
   "outputs": [],
   "source": [
    "# Function that will combine all \"Fraud and Cybercrime Thematic Categories\" with inputs fewer than cutoff point into \"Other\"\n",
    "\n",
    "def shorten_categories3(categories, cutoff):\n",
    "    categorical_map = {}\n",
    "    for i in range(len(categories)):\n",
    "        if categories.values[i] >= cutoff:\n",
    "            categorical_map[categories.index[i]] = categories.index[i]\n",
    "        else:\n",
    "            categorical_map[categories.index[i]] = 'Other'\n",
    "    return categorical_map"
   ]
  },
  {
   "cell_type": "code",
   "execution_count": 20,
   "id": "7d76eb09-efb3-4c3a-8044-5d1731cfed30",
   "metadata": {},
   "outputs": [
    {
     "data": {
      "text/plain": [
       "Fraud/Cybercrime Category\n",
       "Identity Fraud                                70024\n",
       "Extortion                                     28453\n",
       "Phishing                                      26533\n",
       "Personal Info                                 24866\n",
       "Service                                       22510\n",
       "Investments                                   15642\n",
       "Merchandise                                   15262\n",
       "Counterfeit Merchandise                       12949\n",
       "Bank Investigator                             12553\n",
       "Job                                           11401\n",
       "Other                                         10623\n",
       "Vendor Fraud                                   9372\n",
       "Unknown                                        8381\n",
       "Emergency (Jail, Accident, Hospital, Help)     7160\n",
       "Romance                                        5448\n",
       "Spear Phishing                                 5397\n",
       "Prize                                          4220\n",
       "False Billing                                  1808\n",
       "GRANT                                          1668\n",
       "Loan                                           1606\n",
       "Collection Agency                              1300\n",
       "Foreign Money Offer                            1228\n",
       "Recovery Pitch                                 1141\n",
       "Incomplete                                      626\n",
       "Name: count, dtype: int64"
      ]
     },
     "execution_count": 20,
     "metadata": {},
     "output_type": "execute_result"
    }
   ],
   "source": [
    "fraud_type_map = shorten_categories3(df['Fraud and Cybercrime Thematic Categories'].value_counts(), 500)\n",
    "df['Fraud/Cybercrime Category'] = df['Fraud and Cybercrime Thematic Categories'].map(fraud_type_map)\n",
    "df['Fraud/Cybercrime Category'].value_counts()"
   ]
  },
  {
   "cell_type": "code",
   "execution_count": 21,
   "id": "3c660d50-44dd-4033-961c-d827edbe2980",
   "metadata": {},
   "outputs": [],
   "source": [
    "df = df.drop(\"Fraud and Cybercrime Thematic Categories\", axis=1)"
   ]
  },
  {
   "cell_type": "code",
   "execution_count": 22,
   "id": "56c5dc1b-6535-470f-8bd4-dd991befc170",
   "metadata": {},
   "outputs": [],
   "source": [
    "# Combine \"Incomplete\" into \"Unknown\"\n",
    "df['Fraud/Cybercrime Category'] = df['Fraud/Cybercrime Category'].replace(\"Incomplete\", \"Unknown\")"
   ]
  },
  {
   "cell_type": "code",
   "execution_count": 23,
   "id": "d5a0be71-f814-4a19-8e3a-21e51f29b285",
   "metadata": {},
   "outputs": [
    {
     "data": {
      "text/plain": [
       "Fraud/Cybercrime Category\n",
       "Identity Fraud                                70024\n",
       "Extortion                                     28453\n",
       "Phishing                                      26533\n",
       "Personal Info                                 24866\n",
       "Service                                       22510\n",
       "Investments                                   15642\n",
       "Merchandise                                   15262\n",
       "Counterfeit Merchandise                       12949\n",
       "Bank Investigator                             12553\n",
       "Job                                           11401\n",
       "Other                                         10623\n",
       "Vendor Fraud                                   9372\n",
       "Unknown                                        9007\n",
       "Emergency (Jail, Accident, Hospital, Help)     7160\n",
       "Romance                                        5448\n",
       "Spear Phishing                                 5397\n",
       "Prize                                          4220\n",
       "False Billing                                  1808\n",
       "GRANT                                          1668\n",
       "Loan                                           1606\n",
       "Collection Agency                              1300\n",
       "Foreign Money Offer                            1228\n",
       "Recovery Pitch                                 1141\n",
       "Name: count, dtype: int64"
      ]
     },
     "execution_count": 23,
     "metadata": {},
     "output_type": "execute_result"
    }
   ],
   "source": [
    "df['Fraud/Cybercrime Category'].value_counts()"
   ]
  },
  {
   "cell_type": "code",
   "execution_count": 24,
   "id": "29b759e1-d338-47d8-828e-cd32c412f415",
   "metadata": {},
   "outputs": [
    {
     "data": {
      "text/html": [
       "<div>\n",
       "<style scoped>\n",
       "    .dataframe tbody tr th:only-of-type {\n",
       "        vertical-align: middle;\n",
       "    }\n",
       "\n",
       "    .dataframe tbody tr th {\n",
       "        vertical-align: top;\n",
       "    }\n",
       "\n",
       "    .dataframe thead th {\n",
       "        text-align: right;\n",
       "    }\n",
       "</style>\n",
       "<table border=\"1\" class=\"dataframe\">\n",
       "  <thead>\n",
       "    <tr style=\"text-align: right;\">\n",
       "      <th></th>\n",
       "      <th>Country</th>\n",
       "      <th>Solicitation Method</th>\n",
       "      <th>Gender</th>\n",
       "      <th>Victim Age Range / Tranche d'age des victimes</th>\n",
       "      <th>Complaint Type</th>\n",
       "      <th>Dollar Loss /pertes financieres</th>\n",
       "      <th>Number of Victims / Nombre de victimes</th>\n",
       "      <th>Major Province/State</th>\n",
       "      <th>Fraud/Cybercrime Category</th>\n",
       "    </tr>\n",
       "  </thead>\n",
       "  <tbody>\n",
       "    <tr>\n",
       "      <th>0</th>\n",
       "      <td>Canada</td>\n",
       "      <td>Other/unknown</td>\n",
       "      <td>Not Available</td>\n",
       "      <td>'Not Available / non disponible</td>\n",
       "      <td>Attempt</td>\n",
       "      <td>$0.00</td>\n",
       "      <td>0</td>\n",
       "      <td>Saskatchewan</td>\n",
       "      <td>Merchandise</td>\n",
       "    </tr>\n",
       "  </tbody>\n",
       "</table>\n",
       "</div>"
      ],
      "text/plain": [
       "  Country Solicitation Method         Gender  \\\n",
       "0  Canada       Other/unknown  Not Available   \n",
       "\n",
       "  Victim Age Range / Tranche d'age des victimes Complaint Type  \\\n",
       "0               'Not Available / non disponible        Attempt   \n",
       "\n",
       "  Dollar Loss /pertes financieres  Number of Victims / Nombre de victimes  \\\n",
       "0                           $0.00                                       0   \n",
       "\n",
       "  Major Province/State Fraud/Cybercrime Category  \n",
       "0         Saskatchewan               Merchandise  "
      ]
     },
     "execution_count": 24,
     "metadata": {},
     "output_type": "execute_result"
    }
   ],
   "source": [
    "df.head(1)"
   ]
  },
  {
   "cell_type": "code",
   "execution_count": 25,
   "id": "46e29fc4-f44d-4d56-922f-697f2873906b",
   "metadata": {},
   "outputs": [
    {
     "data": {
      "text/plain": [
       "Solicitation Method\n",
       "Other/unknown              87908\n",
       "Direct call                71567\n",
       "Email                      33123\n",
       "Internet-social network    32026\n",
       "Internet                   28476\n",
       "Text message               23690\n",
       "Not Available              16862\n",
       "Door to door/in person      3495\n",
       "Mail                        2659\n",
       "Fax                          162\n",
       "Video Call                    89\n",
       "Television                    60\n",
       "Print                         49\n",
       "Radio                          5\n",
       "Name: count, dtype: int64"
      ]
     },
     "execution_count": 25,
     "metadata": {},
     "output_type": "execute_result"
    }
   ],
   "source": [
    "df['Solicitation Method'].value_counts()"
   ]
  },
  {
   "cell_type": "code",
   "execution_count": 26,
   "id": "416347bc-54bc-434c-807e-3059a772c564",
   "metadata": {},
   "outputs": [],
   "source": [
    "# Regrouping\n",
    "df['Solicitation Method'] = df['Solicitation Method'].replace(\"Radio\", \"Other/unknown\")\n",
    "df['Solicitation Method'] = df['Solicitation Method'].replace(\"Print\", \"Other/unknown\")\n",
    "df['Solicitation Method'] = df['Solicitation Method'].replace(\"Television\", \"Other/unknown\")"
   ]
  },
  {
   "cell_type": "code",
   "execution_count": 27,
   "id": "874320a6-1e2c-48cd-bb6a-a86fb12ead7b",
   "metadata": {},
   "outputs": [],
   "source": [
    "df['Solicitation Method'] = df['Solicitation Method'].replace(\"Video Call\", \"Other/unknown\")\n",
    "df['Solicitation Method'] = df['Solicitation Method'].replace(\"Fax\", \"Other/unknown\")\n",
    "df['Solicitation Method'] = df['Solicitation Method'].replace(\"Other/unknown\", \"Other\")"
   ]
  },
  {
   "cell_type": "code",
   "execution_count": 28,
   "id": "016f782d-93c5-4060-8593-98ed1079b897",
   "metadata": {},
   "outputs": [],
   "source": [
    "df['Solicitation Method'] = df['Solicitation Method'].replace(\"Not Available\", \"Not Specified\")"
   ]
  },
  {
   "cell_type": "code",
   "execution_count": 29,
   "id": "27a93a71-94b9-4913-8930-a51f7f5012fc",
   "metadata": {},
   "outputs": [
    {
     "data": {
      "text/plain": [
       "Solicitation Method\n",
       "Other                      88273\n",
       "Direct call                71567\n",
       "Email                      33123\n",
       "Internet-social network    32026\n",
       "Internet                   28476\n",
       "Text message               23690\n",
       "Not Specified              16862\n",
       "Door to door/in person      3495\n",
       "Mail                        2659\n",
       "Name: count, dtype: int64"
      ]
     },
     "execution_count": 29,
     "metadata": {},
     "output_type": "execute_result"
    }
   ],
   "source": [
    "df['Solicitation Method'].value_counts()"
   ]
  },
  {
   "cell_type": "code",
   "execution_count": 30,
   "id": "e6c7939b-db72-485b-9220-364f57be3db3",
   "metadata": {},
   "outputs": [
    {
     "data": {
      "text/plain": [
       "Gender\n",
       "Female               113825\n",
       "Male                 109059\n",
       "Not Available         75535\n",
       "Unknown                1065\n",
       "Prefer not to say       445\n",
       "Other                   242\n",
       "Name: count, dtype: int64"
      ]
     },
     "execution_count": 30,
     "metadata": {},
     "output_type": "execute_result"
    }
   ],
   "source": [
    "df['Gender'].value_counts()"
   ]
  },
  {
   "cell_type": "code",
   "execution_count": 31,
   "id": "8a2a83cd-21cb-489d-bad7-3b2098821d02",
   "metadata": {},
   "outputs": [],
   "source": [
    "# Regrouping\n",
    "df['Gender'] = df['Gender'].replace(\"Other\", \"Other/Not Specified\")\n",
    "df['Gender'] = df['Gender'].replace(\"Prefer not to say\", \"Other/Not Specified\")\n",
    "df['Gender'] = df['Gender'].replace(\"Unknown\", \"Other/Not Specified\")\n",
    "df['Gender'] = df['Gender'].replace(\"Not Available\", \"Other/Not Specified\")"
   ]
  },
  {
   "cell_type": "code",
   "execution_count": 32,
   "id": "e3426a62-aff2-47cf-b703-da149e430dbe",
   "metadata": {},
   "outputs": [
    {
     "data": {
      "text/plain": [
       "Gender\n",
       "Female                 113825\n",
       "Male                   109059\n",
       "Other/Not Specified     77287\n",
       "Name: count, dtype: int64"
      ]
     },
     "execution_count": 32,
     "metadata": {},
     "output_type": "execute_result"
    }
   ],
   "source": [
    "df['Gender'].value_counts()"
   ]
  },
  {
   "cell_type": "code",
   "execution_count": 33,
   "id": "0878f395-c1dd-4175-ae83-988bea92cd3e",
   "metadata": {},
   "outputs": [],
   "source": [
    "df = df.rename({\"Number of Victims / Nombre de victimes\": \"Victim Result\"}, axis=1)"
   ]
  },
  {
   "cell_type": "code",
   "execution_count": 34,
   "id": "8a074356-5768-4f43-89ce-ea56d77ad6ee",
   "metadata": {},
   "outputs": [],
   "source": [
    "df = df.rename({\"Victim Age Range / Tranche d'age des victimes\": \"Victim Age Group\"}, axis=1)"
   ]
  },
  {
   "cell_type": "code",
   "execution_count": 35,
   "id": "69c60726-0aa6-4b12-b1ca-a841907e62e8",
   "metadata": {},
   "outputs": [
    {
     "data": {
      "text/plain": [
       "Victim Age Group\n",
       "'Not Available / non disponible    89919\n",
       "'30 - 39                           39469\n",
       "'60 - 69                           34578\n",
       "'40 - 49                           34289\n",
       "'20 - 29                           31947\n",
       "'50 - 59                           31366\n",
       "'70 - 79                           21285\n",
       "'10 - 19                            9295\n",
       "'80 - 89                            6722\n",
       "'90 - 99                             901\n",
       "'1 - 9                               160\n",
       "'Deceased / Décédé                   159\n",
       "'100 +                                58\n",
       "'Business / Entreprise                23\n",
       "Name: count, dtype: int64"
      ]
     },
     "execution_count": 35,
     "metadata": {},
     "output_type": "execute_result"
    }
   ],
   "source": [
    "df['Victim Age Group'].value_counts()"
   ]
  },
  {
   "cell_type": "code",
   "execution_count": 36,
   "id": "c555257f-6143-4b02-98aa-373c67a9810d",
   "metadata": {},
   "outputs": [],
   "source": [
    "df['Victim Age Group'] = df['Victim Age Group'].replace(\"'Not Available / non disponible\", \"Not Specified\")"
   ]
  },
  {
   "cell_type": "code",
   "execution_count": 37,
   "id": "7c936a0f-aebe-4c1c-b2a2-9024f59992df",
   "metadata": {},
   "outputs": [],
   "source": [
    "# Regrouping\n",
    "\n",
    "df['Victim Age Group'] = df['Victim Age Group'].replace(\"'Not Available / non disponible\", \"Not Specified\")\n",
    "df['Victim Age Group'] = df['Victim Age Group'].replace(\"'1 - 9\", \"'10 - 19\")\n",
    "df['Victim Age Group'] = df['Victim Age Group'].replace(\"'80 - 89\", \"'80 +\")\n",
    "df['Victim Age Group'] = df['Victim Age Group'].replace(\"'90 - 99\", \"'80 +\")\n",
    "df['Victim Age Group'] = df['Victim Age Group'].replace(\"'100 +\", \"'80 +\")\n",
    "df['Victim Age Group'] = df['Victim Age Group'].replace(\"'Deceased / Décédé\", \"'80 +\")\n",
    "df['Victim Age Group'] = df['Victim Age Group'].replace(\"'Business / Entreprise\", \"Not Specified\")"
   ]
  },
  {
   "cell_type": "code",
   "execution_count": 38,
   "id": "f995f02c-6c74-4c80-9dae-84b46e24dbbf",
   "metadata": {},
   "outputs": [],
   "source": [
    "df['Victim Age Group'] = df['Victim Age Group'].replace(\"'10 - 19\", \"'1 - 19\")"
   ]
  },
  {
   "cell_type": "code",
   "execution_count": 39,
   "id": "fe51ea3f-036b-4007-a7b6-4cc86445323b",
   "metadata": {},
   "outputs": [
    {
     "data": {
      "text/plain": [
       "Victim Age Group\n",
       "Not Specified    89942\n",
       "'30 - 39         39469\n",
       "'60 - 69         34578\n",
       "'40 - 49         34289\n",
       "'20 - 29         31947\n",
       "'50 - 59         31366\n",
       "'70 - 79         21285\n",
       "'1 - 19           9455\n",
       "'80 +             7840\n",
       "Name: count, dtype: int64"
      ]
     },
     "execution_count": 39,
     "metadata": {},
     "output_type": "execute_result"
    }
   ],
   "source": [
    "df['Victim Age Group'].value_counts()"
   ]
  },
  {
   "cell_type": "code",
   "execution_count": 40,
   "id": "0f56dfe5-9cde-4c6b-b347-a2831c336c8e",
   "metadata": {},
   "outputs": [
    {
     "data": {
      "text/plain": [
       "Complaint Type\n",
       "Victim        193482\n",
       "Attempt        99870\n",
       "Other           5552\n",
       "Unknown          838\n",
       "Incomplete       429\n",
       "Name: count, dtype: int64"
      ]
     },
     "execution_count": 40,
     "metadata": {},
     "output_type": "execute_result"
    }
   ],
   "source": [
    "df['Complaint Type'].value_counts()"
   ]
  },
  {
   "cell_type": "code",
   "execution_count": 41,
   "id": "69d86e17-7f9b-4cfc-ba52-59d6e643e4d1",
   "metadata": {},
   "outputs": [],
   "source": [
    "# Regrouping\n",
    "df['Complaint Type'] = df['Complaint Type'].replace(\"Incomplete\", \"Other\")\n",
    "df['Complaint Type'] = df['Complaint Type'].replace(\"Unknown\", \"Other\")"
   ]
  },
  {
   "cell_type": "code",
   "execution_count": 42,
   "id": "1dbef3c8-c924-4128-ba3c-5f4d07abd7f1",
   "metadata": {},
   "outputs": [
    {
     "data": {
      "text/plain": [
       "Complaint Type\n",
       "Victim     193482\n",
       "Attempt     99870\n",
       "Other        6819\n",
       "Name: count, dtype: int64"
      ]
     },
     "execution_count": 42,
     "metadata": {},
     "output_type": "execute_result"
    }
   ],
   "source": [
    "df['Complaint Type'].value_counts()"
   ]
  },
  {
   "cell_type": "code",
   "execution_count": 43,
   "id": "1f8c6a4e-7416-402b-89d5-3071994c4cd4",
   "metadata": {},
   "outputs": [
    {
     "name": "stdout",
     "output_type": "stream",
     "text": [
      "<class 'pandas.core.frame.DataFrame'>\n",
      "RangeIndex: 300171 entries, 0 to 300170\n",
      "Data columns (total 9 columns):\n",
      " #   Column                           Non-Null Count   Dtype \n",
      "---  ------                           --------------   ----- \n",
      " 0   Country                          300171 non-null  object\n",
      " 1   Solicitation Method              300171 non-null  object\n",
      " 2   Gender                           300171 non-null  object\n",
      " 3   Victim Age Group                 300171 non-null  object\n",
      " 4   Complaint Type                   300171 non-null  object\n",
      " 5   Dollar Loss /pertes financieres  300171 non-null  object\n",
      " 6   Victim Result                    300171 non-null  int64 \n",
      " 7   Major Province/State             300171 non-null  object\n",
      " 8   Fraud/Cybercrime Category        300171 non-null  object\n",
      "dtypes: int64(1), object(8)\n",
      "memory usage: 20.6+ MB\n"
     ]
    }
   ],
   "source": [
    "df.info()"
   ]
  },
  {
   "cell_type": "code",
   "execution_count": 44,
   "id": "bf2f176d-5ace-4561-971f-36ba1ec20123",
   "metadata": {},
   "outputs": [],
   "source": [
    "df = df.rename({\"Dollar Loss /pertes financieres\": \"Dollar Loss ($CAD)\"}, axis=1)"
   ]
  },
  {
   "cell_type": "code",
   "execution_count": 45,
   "id": "a814ba23-ad8f-4319-a72a-a48aaf041319",
   "metadata": {},
   "outputs": [
    {
     "data": {
      "text/plain": [
       "Dollar Loss ($CAD)\n",
       "$0.00          229212\n",
       "$1,000.00        1396\n",
       "$500.00          1343\n",
       "$2,000.00         967\n",
       "$200.00           940\n",
       "                ...  \n",
       "$5,774.00           1\n",
       "$1,986.32           1\n",
       "$294,436.80         1\n",
       "$34,610.01          1\n",
       "$2,945.00           1\n",
       "Name: count, Length: 21453, dtype: int64"
      ]
     },
     "execution_count": 45,
     "metadata": {},
     "output_type": "execute_result"
    }
   ],
   "source": [
    "df['Dollar Loss ($CAD)'].value_counts()"
   ]
  },
  {
   "cell_type": "code",
   "execution_count": 46,
   "id": "54177151-5c82-4fa2-979d-72361c29bfff",
   "metadata": {},
   "outputs": [],
   "source": [
    "df[\"Dollar Loss ($CAD)\"] = df[\"Dollar Loss ($CAD)\"].str.replace('$', '')"
   ]
  },
  {
   "cell_type": "code",
   "execution_count": 47,
   "id": "03b79fa9-ecd1-4682-af67-b3b964213e94",
   "metadata": {},
   "outputs": [],
   "source": [
    "df[\"Dollar Loss ($CAD)\"] = df[\"Dollar Loss ($CAD)\"].str.replace(',', '')"
   ]
  },
  {
   "cell_type": "code",
   "execution_count": 48,
   "id": "8a2442e9-0949-4491-b00d-78c8edca0706",
   "metadata": {},
   "outputs": [],
   "source": [
    "df[\"Dollar Loss ($CAD)\"] = pd.to_numeric(df[\"Dollar Loss ($CAD)\"])"
   ]
  },
  {
   "cell_type": "code",
   "execution_count": 49,
   "id": "653c8154-8a94-435b-94d1-6b549aeafbcb",
   "metadata": {},
   "outputs": [
    {
     "data": {
      "text/plain": [
       "dtype('float64')"
      ]
     },
     "execution_count": 49,
     "metadata": {},
     "output_type": "execute_result"
    }
   ],
   "source": [
    "df[\"Dollar Loss ($CAD)\"].dtype"
   ]
  },
  {
   "cell_type": "code",
   "execution_count": 50,
   "id": "2c0d652f-bf5d-49a7-a9ee-b846de87a85b",
   "metadata": {},
   "outputs": [
    {
     "data": {
      "text/html": [
       "<div>\n",
       "<style scoped>\n",
       "    .dataframe tbody tr th:only-of-type {\n",
       "        vertical-align: middle;\n",
       "    }\n",
       "\n",
       "    .dataframe tbody tr th {\n",
       "        vertical-align: top;\n",
       "    }\n",
       "\n",
       "    .dataframe thead th {\n",
       "        text-align: right;\n",
       "    }\n",
       "</style>\n",
       "<table border=\"1\" class=\"dataframe\">\n",
       "  <thead>\n",
       "    <tr style=\"text-align: right;\">\n",
       "      <th></th>\n",
       "      <th>Country</th>\n",
       "      <th>Solicitation Method</th>\n",
       "      <th>Gender</th>\n",
       "      <th>Victim Age Group</th>\n",
       "      <th>Complaint Type</th>\n",
       "      <th>Dollar Loss ($CAD)</th>\n",
       "      <th>Victim Result</th>\n",
       "      <th>Major Province/State</th>\n",
       "      <th>Fraud/Cybercrime Category</th>\n",
       "    </tr>\n",
       "  </thead>\n",
       "  <tbody>\n",
       "    <tr>\n",
       "      <th>0</th>\n",
       "      <td>Canada</td>\n",
       "      <td>Other</td>\n",
       "      <td>Other/Not Specified</td>\n",
       "      <td>Not Specified</td>\n",
       "      <td>Attempt</td>\n",
       "      <td>0.0</td>\n",
       "      <td>0</td>\n",
       "      <td>Saskatchewan</td>\n",
       "      <td>Merchandise</td>\n",
       "    </tr>\n",
       "  </tbody>\n",
       "</table>\n",
       "</div>"
      ],
      "text/plain": [
       "  Country Solicitation Method               Gender Victim Age Group  \\\n",
       "0  Canada               Other  Other/Not Specified    Not Specified   \n",
       "\n",
       "  Complaint Type  Dollar Loss ($CAD)  Victim Result Major Province/State  \\\n",
       "0        Attempt                 0.0              0         Saskatchewan   \n",
       "\n",
       "  Fraud/Cybercrime Category  \n",
       "0               Merchandise  "
      ]
     },
     "execution_count": 50,
     "metadata": {},
     "output_type": "execute_result"
    }
   ],
   "source": [
    "df.head(1)"
   ]
  },
  {
   "cell_type": "code",
   "execution_count": 51,
   "id": "a0c072ea-bad9-4aba-b095-8e52ae0b1960",
   "metadata": {},
   "outputs": [],
   "source": [
    "# Reorder columns \n",
    "\n",
    "df = df[[\"Country\", \"Major Province/State\", \"Gender\", \"Victim Age Group\", \"Complaint Type\", \"Fraud/Cybercrime Category\", \"Solicitation Method\", \"Dollar Loss ($CAD)\", \"Victim Result\" ]]"
   ]
  },
  {
   "cell_type": "code",
   "execution_count": 52,
   "id": "1c09d249-6830-4ede-83f9-a8ef3657fe10",
   "metadata": {},
   "outputs": [
    {
     "data": {
      "text/html": [
       "<div>\n",
       "<style scoped>\n",
       "    .dataframe tbody tr th:only-of-type {\n",
       "        vertical-align: middle;\n",
       "    }\n",
       "\n",
       "    .dataframe tbody tr th {\n",
       "        vertical-align: top;\n",
       "    }\n",
       "\n",
       "    .dataframe thead th {\n",
       "        text-align: right;\n",
       "    }\n",
       "</style>\n",
       "<table border=\"1\" class=\"dataframe\">\n",
       "  <thead>\n",
       "    <tr style=\"text-align: right;\">\n",
       "      <th></th>\n",
       "      <th>Country</th>\n",
       "      <th>Major Province/State</th>\n",
       "      <th>Gender</th>\n",
       "      <th>Victim Age Group</th>\n",
       "      <th>Complaint Type</th>\n",
       "      <th>Fraud/Cybercrime Category</th>\n",
       "      <th>Solicitation Method</th>\n",
       "      <th>Dollar Loss ($CAD)</th>\n",
       "      <th>Victim Result</th>\n",
       "    </tr>\n",
       "  </thead>\n",
       "  <tbody>\n",
       "    <tr>\n",
       "      <th>0</th>\n",
       "      <td>Canada</td>\n",
       "      <td>Saskatchewan</td>\n",
       "      <td>Other/Not Specified</td>\n",
       "      <td>Not Specified</td>\n",
       "      <td>Attempt</td>\n",
       "      <td>Merchandise</td>\n",
       "      <td>Other</td>\n",
       "      <td>0.00</td>\n",
       "      <td>0</td>\n",
       "    </tr>\n",
       "    <tr>\n",
       "      <th>1</th>\n",
       "      <td>Not Specified</td>\n",
       "      <td>Not Specified</td>\n",
       "      <td>Other/Not Specified</td>\n",
       "      <td>Not Specified</td>\n",
       "      <td>Victim</td>\n",
       "      <td>Merchandise</td>\n",
       "      <td>Internet</td>\n",
       "      <td>1000.00</td>\n",
       "      <td>1</td>\n",
       "    </tr>\n",
       "    <tr>\n",
       "      <th>2</th>\n",
       "      <td>Canada</td>\n",
       "      <td>Quebec</td>\n",
       "      <td>Male</td>\n",
       "      <td>'40 - 49</td>\n",
       "      <td>Victim</td>\n",
       "      <td>Identity Fraud</td>\n",
       "      <td>Other</td>\n",
       "      <td>0.00</td>\n",
       "      <td>1</td>\n",
       "    </tr>\n",
       "    <tr>\n",
       "      <th>3</th>\n",
       "      <td>Canada</td>\n",
       "      <td>Saskatchewan</td>\n",
       "      <td>Male</td>\n",
       "      <td>'30 - 39</td>\n",
       "      <td>Victim</td>\n",
       "      <td>Phishing</td>\n",
       "      <td>Email</td>\n",
       "      <td>0.00</td>\n",
       "      <td>1</td>\n",
       "    </tr>\n",
       "    <tr>\n",
       "      <th>4</th>\n",
       "      <td>Canada</td>\n",
       "      <td>Saskatchewan</td>\n",
       "      <td>Male</td>\n",
       "      <td>'60 - 69</td>\n",
       "      <td>Victim</td>\n",
       "      <td>Merchandise</td>\n",
       "      <td>Other</td>\n",
       "      <td>222.73</td>\n",
       "      <td>1</td>\n",
       "    </tr>\n",
       "    <tr>\n",
       "      <th>5</th>\n",
       "      <td>Canada</td>\n",
       "      <td>Ontario</td>\n",
       "      <td>Male</td>\n",
       "      <td>'30 - 39</td>\n",
       "      <td>Attempt</td>\n",
       "      <td>Phishing</td>\n",
       "      <td>Text message</td>\n",
       "      <td>0.00</td>\n",
       "      <td>0</td>\n",
       "    </tr>\n",
       "    <tr>\n",
       "      <th>6</th>\n",
       "      <td>Canada</td>\n",
       "      <td>British Columbia</td>\n",
       "      <td>Female</td>\n",
       "      <td>'70 - 79</td>\n",
       "      <td>Victim</td>\n",
       "      <td>Identity Fraud</td>\n",
       "      <td>Other</td>\n",
       "      <td>0.00</td>\n",
       "      <td>1</td>\n",
       "    </tr>\n",
       "    <tr>\n",
       "      <th>7</th>\n",
       "      <td>Canada</td>\n",
       "      <td>British Columbia</td>\n",
       "      <td>Male</td>\n",
       "      <td>'1 - 19</td>\n",
       "      <td>Victim</td>\n",
       "      <td>Vendor Fraud</td>\n",
       "      <td>Text message</td>\n",
       "      <td>300.00</td>\n",
       "      <td>1</td>\n",
       "    </tr>\n",
       "    <tr>\n",
       "      <th>8</th>\n",
       "      <td>Not Specified</td>\n",
       "      <td>Not Specified</td>\n",
       "      <td>Male</td>\n",
       "      <td>Not Specified</td>\n",
       "      <td>Other</td>\n",
       "      <td>Other</td>\n",
       "      <td>Internet</td>\n",
       "      <td>0.00</td>\n",
       "      <td>0</td>\n",
       "    </tr>\n",
       "    <tr>\n",
       "      <th>9</th>\n",
       "      <td>Canada</td>\n",
       "      <td>Quebec</td>\n",
       "      <td>Female</td>\n",
       "      <td>'40 - 49</td>\n",
       "      <td>Victim</td>\n",
       "      <td>Phishing</td>\n",
       "      <td>Text message</td>\n",
       "      <td>0.00</td>\n",
       "      <td>1</td>\n",
       "    </tr>\n",
       "  </tbody>\n",
       "</table>\n",
       "</div>"
      ],
      "text/plain": [
       "         Country Major Province/State               Gender Victim Age Group  \\\n",
       "0         Canada         Saskatchewan  Other/Not Specified    Not Specified   \n",
       "1  Not Specified        Not Specified  Other/Not Specified    Not Specified   \n",
       "2         Canada               Quebec                 Male         '40 - 49   \n",
       "3         Canada         Saskatchewan                 Male         '30 - 39   \n",
       "4         Canada         Saskatchewan                 Male         '60 - 69   \n",
       "5         Canada              Ontario                 Male         '30 - 39   \n",
       "6         Canada     British Columbia               Female         '70 - 79   \n",
       "7         Canada     British Columbia                 Male          '1 - 19   \n",
       "8  Not Specified        Not Specified                 Male    Not Specified   \n",
       "9         Canada               Quebec               Female         '40 - 49   \n",
       "\n",
       "  Complaint Type Fraud/Cybercrime Category Solicitation Method  \\\n",
       "0        Attempt               Merchandise               Other   \n",
       "1         Victim               Merchandise            Internet   \n",
       "2         Victim            Identity Fraud               Other   \n",
       "3         Victim                  Phishing               Email   \n",
       "4         Victim               Merchandise               Other   \n",
       "5        Attempt                  Phishing        Text message   \n",
       "6         Victim            Identity Fraud               Other   \n",
       "7         Victim              Vendor Fraud        Text message   \n",
       "8          Other                     Other            Internet   \n",
       "9         Victim                  Phishing        Text message   \n",
       "\n",
       "   Dollar Loss ($CAD)  Victim Result  \n",
       "0                0.00              0  \n",
       "1             1000.00              1  \n",
       "2                0.00              1  \n",
       "3                0.00              1  \n",
       "4              222.73              1  \n",
       "5                0.00              0  \n",
       "6                0.00              1  \n",
       "7              300.00              1  \n",
       "8                0.00              0  \n",
       "9                0.00              1  "
      ]
     },
     "execution_count": 52,
     "metadata": {},
     "output_type": "execute_result"
    }
   ],
   "source": [
    "df.head(10)"
   ]
  },
  {
   "cell_type": "code",
   "execution_count": 53,
   "id": "0e25aa55-67ab-41d8-a181-ae221c2ca918",
   "metadata": {},
   "outputs": [
    {
     "data": {
      "text/plain": [
       "Complaint Type  Victim Result\n",
       "Attempt         0                 99870\n",
       "Other           0                  6819\n",
       "Victim          1                193482\n",
       "Name: count, dtype: int64"
      ]
     },
     "execution_count": 53,
     "metadata": {},
     "output_type": "execute_result"
    }
   ],
   "source": [
    "df.groupby(['Complaint Type'])['Victim Result'].value_counts()"
   ]
  },
  {
   "cell_type": "code",
   "execution_count": 54,
   "id": "bb721475-f294-42f6-b625-7f917a102e91",
   "metadata": {},
   "outputs": [],
   "source": [
    "df = df.drop(\"Complaint Type\", axis=1)"
   ]
  },
  {
   "cell_type": "code",
   "execution_count": 55,
   "id": "ef356328-9ba7-4fa9-9f32-2f76d1c3516c",
   "metadata": {},
   "outputs": [
    {
     "data": {
      "text/plain": [
       "Dollar Loss ($CAD)  Victim Result\n",
       "0.00                1                122523\n",
       "                    0                106689\n",
       "0.01                1                    85\n",
       "0.02                1                     2\n",
       "0.03                1                     1\n",
       "                                      ...  \n",
       "9500000.00          1                     1\n",
       "15059475.00         1                     1\n",
       "15130000.00         1                     1\n",
       "18599009.70         1                     1\n",
       "23615000.00         1                     1\n",
       "Name: count, Length: 21454, dtype: int64"
      ]
     },
     "execution_count": 55,
     "metadata": {},
     "output_type": "execute_result"
    }
   ],
   "source": [
    "df.groupby(['Dollar Loss ($CAD)'])['Victim Result'].value_counts()"
   ]
  },
  {
   "cell_type": "code",
   "execution_count": 56,
   "id": "7af2c514-2c67-4ab5-8ef5-5bc18bb5dd12",
   "metadata": {},
   "outputs": [
    {
     "data": {
      "text/plain": [
       "Victim Result\n",
       "1    193482\n",
       "0    106689\n",
       "Name: count, dtype: int64"
      ]
     },
     "execution_count": 56,
     "metadata": {},
     "output_type": "execute_result"
    }
   ],
   "source": [
    "df['Victim Result'].value_counts()"
   ]
  },
  {
   "cell_type": "code",
   "execution_count": 57,
   "id": "f72b8fb2-6211-4634-be02-030d60504128",
   "metadata": {},
   "outputs": [],
   "source": [
    "df = df.drop(\"Dollar Loss ($CAD)\", axis=1)"
   ]
  },
  {
   "cell_type": "markdown",
   "id": "eadeaf25-321d-4f7e-bed7-e6926a8f86f9",
   "metadata": {},
   "source": [
    "Deal with all \"Not Specified\" values in data that are too prelevant"
   ]
  },
  {
   "cell_type": "code",
   "execution_count": 59,
   "id": "0033f627-d49e-4041-8afd-f3532b1bdde9",
   "metadata": {},
   "outputs": [
    {
     "data": {
      "text/plain": [
       "Country\n",
       "Canada                  227702\n",
       "Not Specified            68426\n",
       "Outside of Canada/US      2210\n",
       "United States             1833\n",
       "Name: count, dtype: int64"
      ]
     },
     "execution_count": 59,
     "metadata": {},
     "output_type": "execute_result"
    }
   ],
   "source": [
    "df['Country'].value_counts()"
   ]
  },
  {
   "cell_type": "code",
   "execution_count": 60,
   "id": "81fa1b99-06c1-45b7-9234-8a88890a145b",
   "metadata": {},
   "outputs": [
    {
     "data": {
      "text/plain": [
       "Country               Victim Result\n",
       "Canada                1                154557\n",
       "                      0                 73145\n",
       "Not Specified         1                 36197\n",
       "                      0                 32229\n",
       "Outside of Canada/US  1                  1656\n",
       "                      0                   554\n",
       "United States         1                  1072\n",
       "                      0                   761\n",
       "Name: count, dtype: int64"
      ]
     },
     "execution_count": 60,
     "metadata": {},
     "output_type": "execute_result"
    }
   ],
   "source": [
    "df.groupby(['Country'])['Victim Result'].value_counts()"
   ]
  },
  {
   "cell_type": "code",
   "execution_count": 61,
   "id": "ede2fda4-4042-4a0c-8f1f-9cd05d8fcd11",
   "metadata": {},
   "outputs": [
    {
     "data": {
      "text/html": [
       "<div>\n",
       "<style scoped>\n",
       "    .dataframe tbody tr th:only-of-type {\n",
       "        vertical-align: middle;\n",
       "    }\n",
       "\n",
       "    .dataframe tbody tr th {\n",
       "        vertical-align: top;\n",
       "    }\n",
       "\n",
       "    .dataframe thead th {\n",
       "        text-align: right;\n",
       "    }\n",
       "</style>\n",
       "<table border=\"1\" class=\"dataframe\">\n",
       "  <thead>\n",
       "    <tr style=\"text-align: right;\">\n",
       "      <th></th>\n",
       "      <th>Country</th>\n",
       "      <th>Major Province/State</th>\n",
       "      <th>Gender</th>\n",
       "      <th>Victim Age Group</th>\n",
       "      <th>Fraud/Cybercrime Category</th>\n",
       "      <th>Solicitation Method</th>\n",
       "      <th>Victim Result</th>\n",
       "    </tr>\n",
       "  </thead>\n",
       "  <tbody>\n",
       "    <tr>\n",
       "      <th>0</th>\n",
       "      <td>Canada</td>\n",
       "      <td>Saskatchewan</td>\n",
       "      <td>Other/Not Specified</td>\n",
       "      <td>Not Specified</td>\n",
       "      <td>Merchandise</td>\n",
       "      <td>Other</td>\n",
       "      <td>0</td>\n",
       "    </tr>\n",
       "    <tr>\n",
       "      <th>1</th>\n",
       "      <td>Not Specified</td>\n",
       "      <td>Not Specified</td>\n",
       "      <td>Other/Not Specified</td>\n",
       "      <td>Not Specified</td>\n",
       "      <td>Merchandise</td>\n",
       "      <td>Internet</td>\n",
       "      <td>1</td>\n",
       "    </tr>\n",
       "    <tr>\n",
       "      <th>2</th>\n",
       "      <td>Canada</td>\n",
       "      <td>Quebec</td>\n",
       "      <td>Male</td>\n",
       "      <td>'40 - 49</td>\n",
       "      <td>Identity Fraud</td>\n",
       "      <td>Other</td>\n",
       "      <td>1</td>\n",
       "    </tr>\n",
       "    <tr>\n",
       "      <th>3</th>\n",
       "      <td>Canada</td>\n",
       "      <td>Saskatchewan</td>\n",
       "      <td>Male</td>\n",
       "      <td>'30 - 39</td>\n",
       "      <td>Phishing</td>\n",
       "      <td>Email</td>\n",
       "      <td>1</td>\n",
       "    </tr>\n",
       "    <tr>\n",
       "      <th>4</th>\n",
       "      <td>Canada</td>\n",
       "      <td>Saskatchewan</td>\n",
       "      <td>Male</td>\n",
       "      <td>'60 - 69</td>\n",
       "      <td>Merchandise</td>\n",
       "      <td>Other</td>\n",
       "      <td>1</td>\n",
       "    </tr>\n",
       "  </tbody>\n",
       "</table>\n",
       "</div>"
      ],
      "text/plain": [
       "         Country Major Province/State               Gender Victim Age Group  \\\n",
       "0         Canada         Saskatchewan  Other/Not Specified    Not Specified   \n",
       "1  Not Specified        Not Specified  Other/Not Specified    Not Specified   \n",
       "2         Canada               Quebec                 Male         '40 - 49   \n",
       "3         Canada         Saskatchewan                 Male         '30 - 39   \n",
       "4         Canada         Saskatchewan                 Male         '60 - 69   \n",
       "\n",
       "  Fraud/Cybercrime Category Solicitation Method  Victim Result  \n",
       "0               Merchandise               Other              0  \n",
       "1               Merchandise            Internet              1  \n",
       "2            Identity Fraud               Other              1  \n",
       "3                  Phishing               Email              1  \n",
       "4               Merchandise               Other              1  "
      ]
     },
     "execution_count": 61,
     "metadata": {},
     "output_type": "execute_result"
    }
   ],
   "source": [
    "df.head()"
   ]
  },
  {
   "cell_type": "code",
   "execution_count": 62,
   "id": "617731e6-7f00-4c6a-885a-2a437204c00c",
   "metadata": {},
   "outputs": [],
   "source": [
    "# drop all rows labelled \"Not Specified\" in Country column\n",
    "\n",
    "df = df.drop(df[df['Country'] == 'Not Specified'].index)"
   ]
  },
  {
   "cell_type": "code",
   "execution_count": 64,
   "id": "a0647a01-bada-45b5-b58d-2fb78740a00d",
   "metadata": {},
   "outputs": [
    {
     "data": {
      "text/plain": [
       "Major Province/State\n",
       "Ontario                      87348\n",
       "Quebec                       61631\n",
       "British Columbia             28602\n",
       "Alberta                      23803\n",
       "Manitoba                      8191\n",
       "Saskatchewan                  5395\n",
       "Nova Scotia                   4917\n",
       "New Brunswick                 4032\n",
       "Not Specified                 3068\n",
       "Newfoundland And Labrador     1758\n",
       "Prince Edward Island           780\n",
       "Other                          765\n",
       "California                     521\n",
       "Yukon                          271\n",
       "North West Territories         171\n",
       "New York                       123\n",
       "Florida                        115\n",
       "Texas                           92\n",
       "Nunavut                         86\n",
       "Washington                      76\n",
       "Name: count, dtype: int64"
      ]
     },
     "execution_count": 64,
     "metadata": {},
     "output_type": "execute_result"
    }
   ],
   "source": [
    "df['Major Province/State'].value_counts()"
   ]
  },
  {
   "cell_type": "code",
   "execution_count": 78,
   "id": "735418b9-f2bd-4abb-9906-b408eeede07d",
   "metadata": {},
   "outputs": [],
   "source": [
    "df = df.drop(df[df['Major Province/State'] == 'Not Specified'].index)"
   ]
  },
  {
   "cell_type": "code",
   "execution_count": 80,
   "id": "9d5c23e3-5cb4-4d67-b29c-3c7f905d4969",
   "metadata": {},
   "outputs": [
    {
     "data": {
      "text/plain": [
       "Victim Age Group\n",
       "'30 - 39         38131\n",
       "'60 - 69         34031\n",
       "'40 - 49         33379\n",
       "'20 - 29         30839\n",
       "'50 - 59         30714\n",
       "Not Specified    23629\n",
       "'70 - 79         20993\n",
       "'1 - 19           9255\n",
       "'80 +             7706\n",
       "Name: count, dtype: int64"
      ]
     },
     "execution_count": 80,
     "metadata": {},
     "output_type": "execute_result"
    }
   ],
   "source": [
    "df['Victim Age Group'].value_counts()"
   ]
  },
  {
   "cell_type": "code",
   "execution_count": 82,
   "id": "78081e10-5daa-46e5-868a-28f16814ed40",
   "metadata": {},
   "outputs": [],
   "source": [
    "df = df.drop(df[df['Victim Age Group'] == 'Not Specified'].index)"
   ]
  },
  {
   "cell_type": "code",
   "execution_count": 84,
   "id": "ac543d82-da3f-40f5-8a4b-b05ed876e115",
   "metadata": {},
   "outputs": [
    {
     "data": {
      "text/plain": [
       "Fraud/Cybercrime Category\n",
       "Identity Fraud                                59797\n",
       "Personal Info                                 20457\n",
       "Extortion                                     17426\n",
       "Service                                       16046\n",
       "Phishing                                      16037\n",
       "Investments                                   10435\n",
       "Merchandise                                   10113\n",
       "Bank Investigator                              9074\n",
       "Job                                            6744\n",
       "Vendor Fraud                                   6247\n",
       "Other                                          5600\n",
       "Emergency (Jail, Accident, Hospital, Help)     5588\n",
       "Unknown                                        4982\n",
       "Romance                                        3672\n",
       "Prize                                          2949\n",
       "Counterfeit Merchandise                        1934\n",
       "Spear Phishing                                 1842\n",
       "GRANT                                          1296\n",
       "False Billing                                  1209\n",
       "Loan                                           1071\n",
       "Recovery Pitch                                  927\n",
       "Collection Agency                               900\n",
       "Foreign Money Offer                             702\n",
       "Name: count, dtype: int64"
      ]
     },
     "execution_count": 84,
     "metadata": {},
     "output_type": "execute_result"
    }
   ],
   "source": [
    "df['Fraud/Cybercrime Category'].value_counts()"
   ]
  },
  {
   "cell_type": "code",
   "execution_count": 86,
   "id": "0caa9292-2af5-4e4b-8c31-8356e7a92527",
   "metadata": {},
   "outputs": [],
   "source": [
    "df = df.drop(df[df['Fraud/Cybercrime Category'] == 'Unknown'].index)"
   ]
  },
  {
   "cell_type": "code",
   "execution_count": 88,
   "id": "69357eeb-cfa9-4bcf-8ea7-4d8a8d1c4e11",
   "metadata": {},
   "outputs": [],
   "source": [
    "df = df.reset_index(drop=True)"
   ]
  },
  {
   "cell_type": "code",
   "execution_count": 90,
   "id": "c9d8f3cb-d39b-4255-8bcb-8ed4fb0a127c",
   "metadata": {},
   "outputs": [
    {
     "data": {
      "text/html": [
       "<div>\n",
       "<style scoped>\n",
       "    .dataframe tbody tr th:only-of-type {\n",
       "        vertical-align: middle;\n",
       "    }\n",
       "\n",
       "    .dataframe tbody tr th {\n",
       "        vertical-align: top;\n",
       "    }\n",
       "\n",
       "    .dataframe thead th {\n",
       "        text-align: right;\n",
       "    }\n",
       "</style>\n",
       "<table border=\"1\" class=\"dataframe\">\n",
       "  <thead>\n",
       "    <tr style=\"text-align: right;\">\n",
       "      <th></th>\n",
       "      <th>Country</th>\n",
       "      <th>Major Province/State</th>\n",
       "      <th>Gender</th>\n",
       "      <th>Victim Age Group</th>\n",
       "      <th>Fraud/Cybercrime Category</th>\n",
       "      <th>Solicitation Method</th>\n",
       "      <th>Victim Result</th>\n",
       "    </tr>\n",
       "  </thead>\n",
       "  <tbody>\n",
       "    <tr>\n",
       "      <th>0</th>\n",
       "      <td>Canada</td>\n",
       "      <td>Quebec</td>\n",
       "      <td>Male</td>\n",
       "      <td>'40 - 49</td>\n",
       "      <td>Identity Fraud</td>\n",
       "      <td>Other</td>\n",
       "      <td>1</td>\n",
       "    </tr>\n",
       "    <tr>\n",
       "      <th>1</th>\n",
       "      <td>Canada</td>\n",
       "      <td>Saskatchewan</td>\n",
       "      <td>Male</td>\n",
       "      <td>'30 - 39</td>\n",
       "      <td>Phishing</td>\n",
       "      <td>Email</td>\n",
       "      <td>1</td>\n",
       "    </tr>\n",
       "    <tr>\n",
       "      <th>2</th>\n",
       "      <td>Canada</td>\n",
       "      <td>Saskatchewan</td>\n",
       "      <td>Male</td>\n",
       "      <td>'60 - 69</td>\n",
       "      <td>Merchandise</td>\n",
       "      <td>Other</td>\n",
       "      <td>1</td>\n",
       "    </tr>\n",
       "    <tr>\n",
       "      <th>3</th>\n",
       "      <td>Canada</td>\n",
       "      <td>Ontario</td>\n",
       "      <td>Male</td>\n",
       "      <td>'30 - 39</td>\n",
       "      <td>Phishing</td>\n",
       "      <td>Text message</td>\n",
       "      <td>0</td>\n",
       "    </tr>\n",
       "    <tr>\n",
       "      <th>4</th>\n",
       "      <td>Canada</td>\n",
       "      <td>British Columbia</td>\n",
       "      <td>Female</td>\n",
       "      <td>'70 - 79</td>\n",
       "      <td>Identity Fraud</td>\n",
       "      <td>Other</td>\n",
       "      <td>1</td>\n",
       "    </tr>\n",
       "  </tbody>\n",
       "</table>\n",
       "</div>"
      ],
      "text/plain": [
       "  Country Major Province/State  Gender Victim Age Group  \\\n",
       "0  Canada               Quebec    Male         '40 - 49   \n",
       "1  Canada         Saskatchewan    Male         '30 - 39   \n",
       "2  Canada         Saskatchewan    Male         '60 - 69   \n",
       "3  Canada              Ontario    Male         '30 - 39   \n",
       "4  Canada     British Columbia  Female         '70 - 79   \n",
       "\n",
       "  Fraud/Cybercrime Category Solicitation Method  Victim Result  \n",
       "0            Identity Fraud               Other              1  \n",
       "1                  Phishing               Email              1  \n",
       "2               Merchandise               Other              1  \n",
       "3                  Phishing        Text message              0  \n",
       "4            Identity Fraud               Other              1  "
      ]
     },
     "execution_count": 90,
     "metadata": {},
     "output_type": "execute_result"
    }
   ],
   "source": [
    "df.head()"
   ]
  },
  {
   "cell_type": "code",
   "execution_count": 92,
   "id": "72cba8cf-fee7-477e-8c41-8a17070b2038",
   "metadata": {},
   "outputs": [
    {
     "name": "stdout",
     "output_type": "stream",
     "text": [
      "<class 'pandas.core.frame.DataFrame'>\n",
      "RangeIndex: 200066 entries, 0 to 200065\n",
      "Data columns (total 7 columns):\n",
      " #   Column                     Non-Null Count   Dtype \n",
      "---  ------                     --------------   ----- \n",
      " 0   Country                    200066 non-null  object\n",
      " 1   Major Province/State       200066 non-null  object\n",
      " 2   Gender                     200066 non-null  object\n",
      " 3   Victim Age Group           200066 non-null  object\n",
      " 4   Fraud/Cybercrime Category  200066 non-null  object\n",
      " 5   Solicitation Method        200066 non-null  object\n",
      " 6   Victim Result              200066 non-null  int64 \n",
      "dtypes: int64(1), object(6)\n",
      "memory usage: 10.7+ MB\n"
     ]
    }
   ],
   "source": [
    "df.info()"
   ]
  },
  {
   "cell_type": "code",
   "execution_count": 94,
   "id": "6f4fad19-46fa-4b88-a344-8eea01d06a1a",
   "metadata": {},
   "outputs": [
    {
     "data": {
      "text/plain": [
       "Victim Result\n",
       "1    142543\n",
       "0     57523\n",
       "Name: count, dtype: int64"
      ]
     },
     "execution_count": 94,
     "metadata": {},
     "output_type": "execute_result"
    }
   ],
   "source": [
    "df['Victim Result'].value_counts()"
   ]
  },
  {
   "cell_type": "code",
   "execution_count": 96,
   "id": "012b0c8b-5f1d-415f-84e7-28c21c633d27",
   "metadata": {},
   "outputs": [
    {
     "data": {
      "text/plain": [
       "Country\n",
       "Canada           199003\n",
       "United States      1063\n",
       "Name: count, dtype: int64"
      ]
     },
     "execution_count": 96,
     "metadata": {},
     "output_type": "execute_result"
    }
   ],
   "source": [
    "df['Country'].value_counts()"
   ]
  },
  {
   "cell_type": "code",
   "execution_count": 98,
   "id": "b842db0b-ca31-4c26-9439-ab35d4d5efa8",
   "metadata": {},
   "outputs": [
    {
     "data": {
      "text/html": [
       "<div>\n",
       "<style scoped>\n",
       "    .dataframe tbody tr th:only-of-type {\n",
       "        vertical-align: middle;\n",
       "    }\n",
       "\n",
       "    .dataframe tbody tr th {\n",
       "        vertical-align: top;\n",
       "    }\n",
       "\n",
       "    .dataframe thead th {\n",
       "        text-align: right;\n",
       "    }\n",
       "</style>\n",
       "<table border=\"1\" class=\"dataframe\">\n",
       "  <thead>\n",
       "    <tr style=\"text-align: right;\">\n",
       "      <th></th>\n",
       "      <th>Country</th>\n",
       "      <th>Major Province/State</th>\n",
       "      <th>Gender</th>\n",
       "      <th>Victim Age Group</th>\n",
       "      <th>Fraud/Cybercrime Category</th>\n",
       "      <th>Solicitation Method</th>\n",
       "      <th>Victim Result</th>\n",
       "    </tr>\n",
       "  </thead>\n",
       "  <tbody>\n",
       "    <tr>\n",
       "      <th>0</th>\n",
       "      <td>Canada</td>\n",
       "      <td>Quebec</td>\n",
       "      <td>Male</td>\n",
       "      <td>'40 - 49</td>\n",
       "      <td>Identity Fraud</td>\n",
       "      <td>Other</td>\n",
       "      <td>1</td>\n",
       "    </tr>\n",
       "    <tr>\n",
       "      <th>1</th>\n",
       "      <td>Canada</td>\n",
       "      <td>Saskatchewan</td>\n",
       "      <td>Male</td>\n",
       "      <td>'30 - 39</td>\n",
       "      <td>Phishing</td>\n",
       "      <td>Email</td>\n",
       "      <td>1</td>\n",
       "    </tr>\n",
       "    <tr>\n",
       "      <th>2</th>\n",
       "      <td>Canada</td>\n",
       "      <td>Saskatchewan</td>\n",
       "      <td>Male</td>\n",
       "      <td>'60 - 69</td>\n",
       "      <td>Merchandise</td>\n",
       "      <td>Other</td>\n",
       "      <td>1</td>\n",
       "    </tr>\n",
       "    <tr>\n",
       "      <th>3</th>\n",
       "      <td>Canada</td>\n",
       "      <td>Ontario</td>\n",
       "      <td>Male</td>\n",
       "      <td>'30 - 39</td>\n",
       "      <td>Phishing</td>\n",
       "      <td>Text message</td>\n",
       "      <td>0</td>\n",
       "    </tr>\n",
       "    <tr>\n",
       "      <th>4</th>\n",
       "      <td>Canada</td>\n",
       "      <td>British Columbia</td>\n",
       "      <td>Female</td>\n",
       "      <td>'70 - 79</td>\n",
       "      <td>Identity Fraud</td>\n",
       "      <td>Other</td>\n",
       "      <td>1</td>\n",
       "    </tr>\n",
       "    <tr>\n",
       "      <th>...</th>\n",
       "      <td>...</td>\n",
       "      <td>...</td>\n",
       "      <td>...</td>\n",
       "      <td>...</td>\n",
       "      <td>...</td>\n",
       "      <td>...</td>\n",
       "      <td>...</td>\n",
       "    </tr>\n",
       "    <tr>\n",
       "      <th>200061</th>\n",
       "      <td>Canada</td>\n",
       "      <td>Manitoba</td>\n",
       "      <td>Male</td>\n",
       "      <td>'1 - 19</td>\n",
       "      <td>Extortion</td>\n",
       "      <td>Internet-social network</td>\n",
       "      <td>1</td>\n",
       "    </tr>\n",
       "    <tr>\n",
       "      <th>200062</th>\n",
       "      <td>Canada</td>\n",
       "      <td>Quebec</td>\n",
       "      <td>Female</td>\n",
       "      <td>'40 - 49</td>\n",
       "      <td>Service</td>\n",
       "      <td>Internet</td>\n",
       "      <td>1</td>\n",
       "    </tr>\n",
       "    <tr>\n",
       "      <th>200063</th>\n",
       "      <td>Canada</td>\n",
       "      <td>Manitoba</td>\n",
       "      <td>Male</td>\n",
       "      <td>'20 - 29</td>\n",
       "      <td>Extortion</td>\n",
       "      <td>Internet</td>\n",
       "      <td>1</td>\n",
       "    </tr>\n",
       "    <tr>\n",
       "      <th>200064</th>\n",
       "      <td>Canada</td>\n",
       "      <td>Ontario</td>\n",
       "      <td>Female</td>\n",
       "      <td>'70 - 79</td>\n",
       "      <td>Bank Investigator</td>\n",
       "      <td>Direct call</td>\n",
       "      <td>0</td>\n",
       "    </tr>\n",
       "    <tr>\n",
       "      <th>200065</th>\n",
       "      <td>Canada</td>\n",
       "      <td>Ontario</td>\n",
       "      <td>Male</td>\n",
       "      <td>'60 - 69</td>\n",
       "      <td>Service</td>\n",
       "      <td>Internet-social network</td>\n",
       "      <td>1</td>\n",
       "    </tr>\n",
       "  </tbody>\n",
       "</table>\n",
       "<p>200066 rows × 7 columns</p>\n",
       "</div>"
      ],
      "text/plain": [
       "       Country Major Province/State  Gender Victim Age Group  \\\n",
       "0       Canada               Quebec    Male         '40 - 49   \n",
       "1       Canada         Saskatchewan    Male         '30 - 39   \n",
       "2       Canada         Saskatchewan    Male         '60 - 69   \n",
       "3       Canada              Ontario    Male         '30 - 39   \n",
       "4       Canada     British Columbia  Female         '70 - 79   \n",
       "...        ...                  ...     ...              ...   \n",
       "200061  Canada             Manitoba    Male          '1 - 19   \n",
       "200062  Canada               Quebec  Female         '40 - 49   \n",
       "200063  Canada             Manitoba    Male         '20 - 29   \n",
       "200064  Canada              Ontario  Female         '70 - 79   \n",
       "200065  Canada              Ontario    Male         '60 - 69   \n",
       "\n",
       "       Fraud/Cybercrime Category      Solicitation Method  Victim Result  \n",
       "0                 Identity Fraud                    Other              1  \n",
       "1                       Phishing                    Email              1  \n",
       "2                    Merchandise                    Other              1  \n",
       "3                       Phishing             Text message              0  \n",
       "4                 Identity Fraud                    Other              1  \n",
       "...                          ...                      ...            ...  \n",
       "200061                 Extortion  Internet-social network              1  \n",
       "200062                   Service                 Internet              1  \n",
       "200063                 Extortion                 Internet              1  \n",
       "200064         Bank Investigator              Direct call              0  \n",
       "200065                   Service  Internet-social network              1  \n",
       "\n",
       "[200066 rows x 7 columns]"
      ]
     },
     "execution_count": 98,
     "metadata": {},
     "output_type": "execute_result"
    }
   ],
   "source": [
    "df_fraud_cleaned = df\n",
    "df_fraud_cleaned"
   ]
  },
  {
   "cell_type": "code",
   "execution_count": 100,
   "id": "60323532-668e-45fd-938a-443429c86194",
   "metadata": {},
   "outputs": [],
   "source": [
    "# df_fraud_cleaned.to_csv(\"Cleaned_fraud_data.csv\", index=False)"
   ]
  },
  {
   "cell_type": "markdown",
   "id": "3d15a17a-d9a1-4597-a5fd-3ec26447e0f8",
   "metadata": {},
   "source": [
    "## EDA Visulizations"
   ]
  },
  {
   "cell_type": "code",
   "execution_count": 102,
   "id": "ec5babc8-f825-4c8f-b2ed-1525efbe4679",
   "metadata": {},
   "outputs": [
    {
     "data": {
      "image/png": "[encoded data removed]",
      "text/plain": [
       "<Figure size 640x480 with 1 Axes>"
      ]
     },
     "metadata": {},
     "output_type": "display_data"
    }
   ],
   "source": [
    "sns.countplot(data=df,x='Victim Result', hue='Victim Result')\n",
    "plt.title('Victim Target Value Count')\n",
    "plt.show()"
   ]
  },
  {
   "cell_type": "code",
   "execution_count": 142,
   "id": "2fdb4ed4-e7a9-4303-aae0-f760cde7a96f",
   "metadata": {},
   "outputs": [
    {
     "data": {
      "image/png": "[encoded data removed]",
      "text/plain": [
       "<Figure size 640x480 with 1 Axes>"
      ]
     },
     "metadata": {},
     "output_type": "display_data"
    }
   ],
   "source": [
    "sns.countplot(data=df,x='Country', hue='Victim Result')\n",
    "plt.title('Victim Target Value Count vs Country')\n",
    "plt.show()"
   ]
  },
  {
   "cell_type": "code",
   "execution_count": 170,
   "id": "c73e3b9d-da65-4fa7-b09e-3221d3bd1e4b",
   "metadata": {},
   "outputs": [
    {
     "data": {
      "image/png": "[encoded data removed]",
      "text/plain": [
       "<Figure size 640x480 with 1 Axes>"
      ]
     },
     "metadata": {},
     "output_type": "display_data"
    }
   ],
   "source": [
    "sns.countplot(data=df,x='Major Province/State', hue='Victim Result')\n",
    "plt.title('Victim Target Value Count vs Major Province/State')\n",
    "plt.xticks(rotation=90)\n",
    "plt.show()"
   ]
  },
  {
   "cell_type": "code",
   "execution_count": 138,
   "id": "6f177088-19d6-45a6-9ca6-546f0b153f3d",
   "metadata": {},
   "outputs": [
    {
     "data": {
      "image/png": "[encoded data removed]",
      "text/plain": [
       "<Figure size 640x480 with 1 Axes>"
      ]
     },
     "metadata": {},
     "output_type": "display_data"
    }
   ],
   "source": [
    "sns.countplot(data=df,x='Gender', hue='Victim Result')\n",
    "plt.title('Victim Target Value Count vs Gender')\n",
    "plt.show()"
   ]
  },
  {
   "cell_type": "code",
   "execution_count": 150,
   "id": "ffe4918a-3d50-4fdb-a188-4d2847a1d82b",
   "metadata": {},
   "outputs": [
    {
     "data": {
      "image/png": "[encoded data removed]",
      "text/plain": [
       "<Figure size 640x480 with 1 Axes>"
      ]
     },
     "metadata": {},
     "output_type": "display_data"
    }
   ],
   "source": [
    "sns.countplot(data=df,x='Victim Age Group', hue='Victim Result')\n",
    "plt.title('Victim Target Value Count vs Age Group')\n",
    "plt.xticks(rotation=40)\n",
    "plt.show()"
   ]
  },
  {
   "cell_type": "code",
   "execution_count": 166,
   "id": "5291512a-d57f-4a7d-bd38-06a2d9f66466",
   "metadata": {},
   "outputs": [
    {
     "data": {
      "image/png": "[encoded data removed]",
      "text/plain": [
       "<Figure size 640x480 with 1 Axes>"
      ]
     },
     "metadata": {},
     "output_type": "display_data"
    }
   ],
   "source": [
    "sns.countplot(data=df,x='Fraud/Cybercrime Category', hue='Victim Result')\n",
    "plt.title('Victim Target Value Count vs Fraud/Cybercrime Category')\n",
    "plt.xticks(rotation=90)\n",
    "plt.show()"
   ]
  },
  {
   "cell_type": "code",
   "execution_count": 162,
   "id": "d179b6b8-5a32-4ff7-a85e-6c3c82b5cbc8",
   "metadata": {},
   "outputs": [
    {
     "data": {
      "image/png": "[encoded data removed]",
      "text/plain": [
       "<Figure size 640x480 with 1 Axes>"
      ]
     },
     "metadata": {},
     "output_type": "display_data"
    }
   ],
   "source": [
    "sns.countplot(data=df,x='Solicitation Method', hue='Victim Result')\n",
    "plt.title('Victim Target Value Count vs Solicitation Method')\n",
    "plt.xticks(rotation=60)\n",
    "plt.show()"
   ]
  }
 ],
 "metadata": {
  "kernelspec": {
   "display_name": "Python 3 (ipykernel)",
   "language": "python",
   "name": "python3"
  },
  "language_info": {
   "codemirror_mode": {
    "name": "ipython",
    "version": 3
   },
   "file_extension": ".py",
   "mimetype": "text/x-python",
   "name": "python",
   "nbconvert_exporter": "python",
   "pygments_lexer": "ipython3",
   "version": "3.12.4"
  }
 },
 "nbformat": 4,
 "nbformat_minor": 5
}
